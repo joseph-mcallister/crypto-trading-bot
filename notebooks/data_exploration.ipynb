{
 "cells": [
  {
   "cell_type": "code",
   "execution_count": 2,
   "id": "0003459a",
   "metadata": {
    "scrolled": true
   },
   "outputs": [],
   "source": [
    "import sys\n",
    "import numpy as np\n",
    "from matplotlib.pyplot import hist\n",
    "import datetime\n",
    "from sklearn import metrics\n",
    "\n",
    "sys.path.insert(0, '/Users/jmcallister/repos/fat-stacks')\n",
    "from data.data_utils import load_kraken_data\n",
    "from models.model_utils import perc_change, trinary_labels\n",
    "from models.features import HourlySMA\n",
    "from models.model import XGBoostV0, MLPClassifierV0\n",
    "from models.labels import BinaryLabels, TrinaryLabels"
   ]
  },
  {
   "cell_type": "code",
   "execution_count": 3,
   "id": "c096e300",
   "metadata": {},
   "outputs": [],
   "source": [
    "df = load_kraken_data(\"XBT\", \"USD\", 15)\n",
    "df = df[df[\"Date\"] >= datetime.datetime(2017, 1, 1)]\n",
    "prices = df[\"Close\"].to_numpy()\n",
    "perc = perc_change(prices)"
   ]
  },
  {
   "cell_type": "code",
   "execution_count": 4,
   "id": "ac286497",
   "metadata": {},
   "outputs": [
    {
     "data": {
      "text/plain": [
       "(array([0.0000e+00, 2.0000e+00, 4.0000e+00, 1.4000e+01, 2.1000e+01,\n",
       "        4.0000e+01, 1.1600e+02, 4.9700e+02, 2.9630e+03, 7.7029e+04,\n",
       "        8.1829e+04, 2.8650e+03, 4.0200e+02, 1.1700e+02, 4.3000e+01,\n",
       "        2.7000e+01, 9.0000e+00, 2.0000e+00, 5.0000e+00]),\n",
       " array([-10,  -9,  -8,  -7,  -6,  -5,  -4,  -3,  -2,  -1,   0,   1,   2,\n",
       "          3,   4,   5,   6,   7,   8,   9]),\n",
       " <BarContainer object of 19 artists>)"
      ]
     },
     "execution_count": 4,
     "metadata": {},
     "output_type": "execute_result"
    },
    {
     "data": {
      "image/png": "[encoded data removed]",
      "text/plain": [
       "<Figure size 432x288 with 1 Axes>"
      ]
     },
     "metadata": {
      "needs_background": "light"
     },
     "output_type": "display_data"
    }
   ],
   "source": [
    "hist(perc * 100, bins = list(range(-10,10,1)))"
   ]
  },
  {
   "cell_type": "code",
   "execution_count": 5,
   "id": "297ad2a5",
   "metadata": {},
   "outputs": [
    {
     "data": {
      "text/plain": [
       "(array([53154.,     0.,     0.,     0.,     0., 57337.,     0.,     0.,\n",
       "            0., 55501.]),\n",
       " array([0. , 0.2, 0.4, 0.6, 0.8, 1. , 1.2, 1.4, 1.6, 1.8, 2. ]),\n",
       " <BarContainer object of 10 artists>)"
      ]
     },
     "execution_count": 5,
     "metadata": {},
     "output_type": "execute_result"
    },
    {
     "data": {
      "image/png": "[encoded data removed]",
      "text/plain": [
       "<Figure size 432x288 with 1 Axes>"
      ]
     },
     "metadata": {
      "needs_background": "light"
     },
     "output_type": "display_data"
    }
   ],
   "source": [
    "hist(trinary_labels(prices, threshold=0.001)[1:])"
   ]
  },
  {
   "cell_type": "code",
   "execution_count": null,
   "id": "33a9b99d",
   "metadata": {},
   "outputs": [],
   "source": [
    "df = load_kraken_data(\"XBT\", \"USD\", 60)\n",
    "df = df[df[\"Date\"] >= datetime.datetime(2020, 1, 1)]\n",
    "feature_store = HourlySMA()\n",
    "model = XGBoostV0(df, feature_store, TrinaryLabels(0.001), \"hourly_sma_mlp\")\n",
    "period = feature_store.get_period()\n",
    "assert feature_store.get_features(df).shape[0] == df[period:].shape[0]\n",
    "model.train()\n",
    "assert len(model.x_train) + len(model.x_test) == df[period:].shape[0] - 2\n",
    "\n",
    "labels = model.get_labels()\n",
    "possible_labels = np.unique(labels)\n",
    "common_guess_baseline = 0\n",
    "for label in possible_labels:\n",
    "    perc_dist =  len(labels[labels == label]) / len(labels)\n",
    "    if perc_dist > common_guess_baseline:\n",
    "        common_guess_baseline = perc_dist\n",
    "print(\"Baseline Accuracy {}: \".format(common_guess_baseline))\n",
    "\n",
    "y_test_pred = model.infer(model.x_test)\n",
    "y_train_pred = model.infer(model.x_train)\n",
    "print(\"Train Accuracy:\", metrics.accuracy_score(model.y_train, y_train_pred))\n",
    "print(\"Test Accuracy:\", metrics.accuracy_score(model.y_test, y_test_pred))\n",
    "assert metrics.accuracy_score(model.y_train, y_train_pred) > common_guess_baseline, \"Does not outperform baseline on train set\"\n",
    "assert metrics.accuracy_score(model.y_test, y_test_pred) > common_guess_baseline, \"Does not outperform baseline on test set\""
   ]
  },
  {
   "cell_type": "code",
   "execution_count": null,
   "id": "2308c678",
   "metadata": {},
   "outputs": [],
   "source": []
  }
 ],
 "metadata": {
  "kernelspec": {
   "display_name": "venv",
   "language": "python",
   "name": "venv"
  },
  "language_info": {
   "codemirror_mode": {
    "name": "ipython",
    "version": 3
   },
   "file_extension": ".py",
   "mimetype": "text/x-python",
   "name": "python",
   "nbconvert_exporter": "python",
   "pygments_lexer": "ipython3",
   "version": "3.9.7"
  }
 },
 "nbformat": 4,
 "nbformat_minor": 5
}
